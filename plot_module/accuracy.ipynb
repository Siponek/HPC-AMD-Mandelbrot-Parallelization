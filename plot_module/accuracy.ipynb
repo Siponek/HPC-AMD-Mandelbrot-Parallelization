{
 "cells": [
  {
   "cell_type": "code",
   "execution_count": 1,
   "metadata": {},
   "outputs": [],
   "source": [
    "import numpy as np\n",
    "from pathlib import Path\n",
    "from tqdm.notebook import tqdm "
   ]
  },
  {
   "cell_type": "code",
   "execution_count": 2,
   "metadata": {},
   "outputs": [
    {
     "name": "stderr",
     "output_type": "stream",
     "text": [
      "usage: jupyter [-h] [--version] [--config-dir] [--data-dir] [--runtime-dir]\n",
      "               [--paths] [--json] [--debug]\n",
      "               [subcommand]\n",
      "\n",
      "Jupyter: Interactive Computing\n",
      "\n",
      "positional arguments:\n",
      "  subcommand     the subcommand to launch\n",
      "\n",
      "options:\n",
      "  -h, --help     show this help message and exit\n",
      "  --version      show the versions of core jupyter packages and exit\n",
      "  --config-dir   show Jupyter config dir\n",
      "  --data-dir     show Jupyter data dir\n",
      "  --runtime-dir  show Jupyter runtime dir\n",
      "  --paths        show all Jupyter paths. Add --json for machine-readable\n",
      "                 format.\n",
      "  --json         output paths as machine-readable json\n",
      "  --debug        output debug information about paths\n",
      "\n",
      "Available subcommands: kernel kernelspec migrate run troubleshoot trust\n",
      "\n",
      "Jupyter command `jupyter-nbextension` not found.\n"
     ]
    }
   ],
   "source": [
    "!jupyter nbextension enable --py widgetsnbextension\n"
   ]
  },
  {
   "cell_type": "code",
   "execution_count": 3,
   "metadata": {},
   "outputs": [
    {
     "name": "stdout",
     "output_type": "stream",
     "text": [
      "Reference file: C:\\Users\\szink\\Desktop\\programming\\HPC\\Project-Mandelbrot-Zinkowicz\\out\\mandelbrot_amd_seq_1000.out\n",
      "File mandelbrot_amd_ext_openmp is not a .out file for comparison\n",
      "File mandelbrot_amd_ext_openmp_16_threads_2000_iterations_2000_resolution is not a .out file for comparison\n",
      "File mandelbrot_amd_ext_openmp_16_threads_2000_iterations_4000_resolution is not a .out file for comparison\n",
      "File mandelbrot_amd_ext_openmp_16_threads_2000_iterations_8000_resolution is not a .out file for comparison\n",
      "File mandelbrot_amd_ext_openmp_16_threads_4000_iterations_2000_resolution is not a .out file for comparison\n",
      "File mandelbrot_amd_ext_openmp_16_threads_4000_iterations_4000_resolution is not a .out file for comparison\n",
      "File mandelbrot_amd_ext_openmp_16_threads_4000_iterations_8000_resolution is not a .out file for comparison\n",
      "File mandelbrot_amd_ext_openmp_1_threads_2000_iterations_2000_resolution is not a .out file for comparison\n",
      "File mandelbrot_amd_ext_openmp_1_threads_2000_iterations_4000_resolution is not a .out file for comparison\n",
      "File mandelbrot_amd_ext_openmp_1_threads_2000_iterations_8000_resolution is not a .out file for comparison\n",
      "File mandelbrot_amd_ext_openmp_1_threads_4000_iterations_2000_resolution is not a .out file for comparison\n",
      "File mandelbrot_amd_ext_openmp_1_threads_4000_iterations_4000_resolution is not a .out file for comparison\n",
      "File mandelbrot_amd_ext_openmp_1_threads_4000_iterations_8000_resolution is not a .out file for comparison\n",
      "File mandelbrot_amd_ext_openmp_2_threads_2000_iterations_2000_resolution is not a .out file for comparison\n",
      "File mandelbrot_amd_ext_openmp_2_threads_2000_iterations_4000_resolution is not a .out file for comparison\n",
      "File mandelbrot_amd_ext_openmp_2_threads_2000_iterations_8000_resolution is not a .out file for comparison\n",
      "File mandelbrot_amd_ext_openmp_2_threads_4000_iterations_2000_resolution is not a .out file for comparison\n",
      "File mandelbrot_amd_ext_openmp_2_threads_4000_iterations_4000_resolution is not a .out file for comparison\n",
      "File mandelbrot_amd_ext_openmp_2_threads_4000_iterations_8000_resolution is not a .out file for comparison\n",
      "File mandelbrot_amd_ext_openmp_4_threads_2000_iterations_2000_resolution is not a .out file for comparison\n",
      "File mandelbrot_amd_ext_openmp_4_threads_2000_iterations_4000_resolution is not a .out file for comparison\n",
      "File mandelbrot_amd_ext_openmp_4_threads_2000_iterations_8000_resolution is not a .out file for comparison\n",
      "File mandelbrot_amd_ext_openmp_4_threads_4000_iterations_2000_resolution is not a .out file for comparison\n",
      "File mandelbrot_amd_ext_openmp_4_threads_4000_iterations_4000_resolution is not a .out file for comparison\n",
      "File mandelbrot_amd_ext_openmp_4_threads_4000_iterations_8000_resolution is not a .out file for comparison\n",
      "File mandelbrot_amd_ext_openmp_8_threads_2000_iterations_2000_resolution is not a .out file for comparison\n",
      "File mandelbrot_amd_ext_openmp_8_threads_2000_iterations_4000_resolution is not a .out file for comparison\n",
      "File mandelbrot_amd_ext_openmp_8_threads_2000_iterations_8000_resolution is not a .out file for comparison\n",
      "File mandelbrot_amd_ext_openmp_8_threads_4000_iterations_2000_resolution is not a .out file for comparison\n",
      "File mandelbrot_amd_ext_openmp_8_threads_4000_iterations_4000_resolution is not a .out file for comparison\n",
      "File mandelbrot_amd_ext_openmp_8_threads_4000_iterations_8000_resolution is not a .out file for comparison\n",
      "File mandelbrot_amd_openmp_1 is not a .out file for comparison\n",
      "File mandelbrot_amd_seq_2000 is not a .out file for comparison\n",
      "File mandelbrot_amd_seq_4000 is not a .out file for comparison\n",
      "File mandelbrot_amd_seq_8000 is not a .out file for comparison\n",
      "File mandelbrot_cuda is not a .out file for comparison\n",
      "File mandelbrot_cuda_16_threads_2000_iterations_2000_resolution is not a .out file for comparison\n",
      "File mandelbrot_cuda_16_threads_2000_iterations_4000_resolution is not a .out file for comparison\n",
      "File mandelbrot_cuda_16_threads_2000_iterations_8000_resolution is not a .out file for comparison\n",
      "File mandelbrot_cuda_16_threads_4000_iterations_2000_resolution is not a .out file for comparison\n",
      "File mandelbrot_cuda_16_threads_4000_iterations_4000_resolution is not a .out file for comparison\n",
      "File mandelbrot_cuda_16_threads_4000_iterations_8000_resolution is not a .out file for comparison\n",
      "File mandelbrot_cuda_2_threads_2000_iterations_2000_resolution is not a .out file for comparison\n",
      "File mandelbrot_cuda_2_threads_2000_iterations_4000_resolution is not a .out file for comparison\n",
      "File mandelbrot_cuda_2_threads_2000_iterations_8000_resolution is not a .out file for comparison\n",
      "File mandelbrot_cuda_2_threads_4000_iterations_2000_resolution is not a .out file for comparison\n",
      "File mandelbrot_cuda_2_threads_4000_iterations_4000_resolution is not a .out file for comparison\n",
      "File mandelbrot_cuda_2_threads_4000_iterations_8000_resolution is not a .out file for comparison\n",
      "File mandelbrot_cuda_32_threads_2000_iterations_2000_resolution is not a .out file for comparison\n",
      "File mandelbrot_cuda_32_threads_2000_iterations_4000_resolution is not a .out file for comparison\n",
      "File mandelbrot_cuda_32_threads_2000_iterations_8000_resolution is not a .out file for comparison\n",
      "File mandelbrot_cuda_32_threads_4000_iterations_2000_resolution is not a .out file for comparison\n",
      "File mandelbrot_cuda_32_threads_4000_iterations_4000_resolution is not a .out file for comparison\n",
      "File mandelbrot_cuda_32_threads_4000_iterations_8000_resolution is not a .out file for comparison\n",
      "File mandelbrot_cuda_4_threads_2000_iterations_2000_resolution is not a .out file for comparison\n",
      "File mandelbrot_cuda_4_threads_2000_iterations_4000_resolution is not a .out file for comparison\n",
      "File mandelbrot_cuda_4_threads_2000_iterations_8000_resolution is not a .out file for comparison\n",
      "File mandelbrot_cuda_4_threads_4000_iterations_2000_resolution is not a .out file for comparison\n",
      "File mandelbrot_cuda_4_threads_4000_iterations_4000_resolution is not a .out file for comparison\n",
      "File mandelbrot_cuda_4_threads_4000_iterations_8000_resolution is not a .out file for comparison\n",
      "File mandelbrot_cuda_8_threads_2000_iterations_2000_resolution is not a .out file for comparison\n",
      "File mandelbrot_cuda_8_threads_2000_iterations_4000_resolution is not a .out file for comparison\n",
      "File mandelbrot_cuda_8_threads_2000_iterations_8000_resolution is not a .out file for comparison\n",
      "File mandelbrot_cuda_8_threads_4000_iterations_2000_resolution is not a .out file for comparison\n",
      "File mandelbrot_cuda_8_threads_4000_iterations_4000_resolution is not a .out file for comparison\n",
      "File mandelbrot_cuda_8_threads_4000_iterations_8000_resolution is not a .out file for comparison\n",
      "File mandelbrot_g++_seq_2000 is not a .out file for comparison\n",
      "File mandelbrot_g++_seq_4000 is not a .out file for comparison\n",
      "File mandelbrot_g++_seq_8000 is not a .out file for comparison\n",
      "compute accuracy for each file\n"
     ]
    },
    {
     "data": {
      "application/vnd.jupyter.widget-view+json": {
       "model_id": "8a12427c69354256b13aecb9301c7a94",
       "version_major": 2,
       "version_minor": 0
      },
      "text/plain": [
       "  0%|          | 0/62 [00:00<?, ?it/s]"
      ]
     },
     "metadata": {},
     "output_type": "display_data"
    },
    {
     "name": "stdout",
     "output_type": "stream",
     "text": [
      "\n",
      "Accuracy:\n"
     ]
    },
    {
     "ename": "TypeError",
     "evalue": "unsupported format string passed to WindowsPath.__format__",
     "output_type": "error",
     "traceback": [
      "\u001b[1;31m---------------------------------------------------------------------------\u001b[0m",
      "\u001b[1;31mTypeError\u001b[0m                                 Traceback (most recent call last)",
      "Cell \u001b[1;32mIn[3], line 42\u001b[0m\n\u001b[0;32m     39\u001b[0m \t\t\u001b[38;5;28mprint\u001b[39m(\u001b[38;5;124mf\u001b[39m\u001b[38;5;124m'\u001b[39m\u001b[38;5;132;01m{\u001b[39;00macc[\u001b[38;5;124m\"\u001b[39m\u001b[38;5;124mfile\u001b[39m\u001b[38;5;124m\"\u001b[39m]\u001b[38;5;132;01m:\u001b[39;00m\u001b[38;5;124m60\u001b[39m\u001b[38;5;132;01m}\u001b[39;00m\u001b[38;5;124m  \u001b[39m\u001b[38;5;132;01m{\u001b[39;00macc[\u001b[38;5;124m\"\u001b[39m\u001b[38;5;124maccuracy\u001b[39m\u001b[38;5;124m\"\u001b[39m]\u001b[38;5;132;01m:\u001b[39;00m\u001b[38;5;124m12\u001b[39m\u001b[38;5;132;01m}\u001b[39;00m\u001b[38;5;124m (\u001b[39m\u001b[38;5;132;01m{\u001b[39;00macc[\u001b[38;5;124m\"\u001b[39m\u001b[38;5;124mcount\u001b[39m\u001b[38;5;124m\"\u001b[39m]\u001b[38;5;132;01m:\u001b[39;00m\u001b[38;5;124m5\u001b[39m\u001b[38;5;132;01m}\u001b[39;00m\u001b[38;5;124m/\u001b[39m\u001b[38;5;132;01m{\u001b[39;00macc[\u001b[38;5;124m\"\u001b[39m\u001b[38;5;124mtotal\u001b[39m\u001b[38;5;124m\"\u001b[39m]\u001b[38;5;132;01m}\u001b[39;00m\u001b[38;5;124m) -> \u001b[39m\u001b[38;5;132;01m{\u001b[39;00macc[\u001b[38;5;124m\"\u001b[39m\u001b[38;5;124mcount\u001b[39m\u001b[38;5;124m\"\u001b[39m]\u001b[38;5;241m/\u001b[39macc[\u001b[38;5;124m\"\u001b[39m\u001b[38;5;124mtotal\u001b[39m\u001b[38;5;124m\"\u001b[39m]\u001b[38;5;132;01m:\u001b[39;00m\u001b[38;5;124m.2%\u001b[39m\u001b[38;5;132;01m}\u001b[39;00m\u001b[38;5;124m'\u001b[39m)\n\u001b[0;32m     40\u001b[0m \t\u001b[38;5;28mprint\u001b[39m()\n\u001b[1;32m---> 42\u001b[0m \u001b[43mmain\u001b[49m\u001b[43m(\u001b[49m\u001b[43m)\u001b[49m\n",
      "Cell \u001b[1;32mIn[3], line 39\u001b[0m, in \u001b[0;36mmain\u001b[1;34m()\u001b[0m\n\u001b[0;32m     37\u001b[0m \u001b[38;5;28mprint\u001b[39m(\u001b[38;5;124m'\u001b[39m\u001b[38;5;130;01m\\n\u001b[39;00m\u001b[38;5;124mAccuracy:\u001b[39m\u001b[38;5;124m'\u001b[39m)\n\u001b[0;32m     38\u001b[0m \u001b[38;5;28;01mfor\u001b[39;00m acc \u001b[38;5;129;01min\u001b[39;00m accurancies:\n\u001b[1;32m---> 39\u001b[0m \t\u001b[38;5;28mprint\u001b[39m(\u001b[38;5;124mf\u001b[39m\u001b[38;5;124m'\u001b[39m\u001b[38;5;132;43;01m{\u001b[39;49;00m\u001b[43macc\u001b[49m\u001b[43m[\u001b[49m\u001b[38;5;124;43m\"\u001b[39;49m\u001b[38;5;124;43mfile\u001b[39;49m\u001b[38;5;124;43m\"\u001b[39;49m\u001b[43m]\u001b[49m\u001b[38;5;132;43;01m:\u001b[39;49;00m\u001b[38;5;124;43m60\u001b[39;49m\u001b[38;5;132;43;01m}\u001b[39;49;00m\u001b[38;5;124m  \u001b[39m\u001b[38;5;132;01m{\u001b[39;00macc[\u001b[38;5;124m\"\u001b[39m\u001b[38;5;124maccuracy\u001b[39m\u001b[38;5;124m\"\u001b[39m]\u001b[38;5;132;01m:\u001b[39;00m\u001b[38;5;124m12\u001b[39m\u001b[38;5;132;01m}\u001b[39;00m\u001b[38;5;124m (\u001b[39m\u001b[38;5;132;01m{\u001b[39;00macc[\u001b[38;5;124m\"\u001b[39m\u001b[38;5;124mcount\u001b[39m\u001b[38;5;124m\"\u001b[39m]\u001b[38;5;132;01m:\u001b[39;00m\u001b[38;5;124m5\u001b[39m\u001b[38;5;132;01m}\u001b[39;00m\u001b[38;5;124m/\u001b[39m\u001b[38;5;132;01m{\u001b[39;00macc[\u001b[38;5;124m\"\u001b[39m\u001b[38;5;124mtotal\u001b[39m\u001b[38;5;124m\"\u001b[39m]\u001b[38;5;132;01m}\u001b[39;00m\u001b[38;5;124m) -> \u001b[39m\u001b[38;5;132;01m{\u001b[39;00macc[\u001b[38;5;124m\"\u001b[39m\u001b[38;5;124mcount\u001b[39m\u001b[38;5;124m\"\u001b[39m]\u001b[38;5;241m/\u001b[39macc[\u001b[38;5;124m\"\u001b[39m\u001b[38;5;124mtotal\u001b[39m\u001b[38;5;124m\"\u001b[39m]\u001b[38;5;132;01m:\u001b[39;00m\u001b[38;5;124m.2%\u001b[39m\u001b[38;5;132;01m}\u001b[39;00m\u001b[38;5;124m'\u001b[39m)\n\u001b[0;32m     40\u001b[0m \u001b[38;5;28mprint\u001b[39m()\n",
      "\u001b[1;31mTypeError\u001b[0m: unsupported format string passed to WindowsPath.__format__"
     ]
    }
   ],
   "source": [
    "def compute_accuracy(reference_file, output_file):\n",
    "\tref = np.loadtxt(reference_file, delimiter=',')\n",
    "\tout = np.loadtxt(output_file, delimiter=',')\n",
    "\tif (ref.shape != out.shape):\n",
    "\t\treturn 0,0,0\n",
    "\tdifferences = np.abs(ref - out)\n",
    "\n",
    "\treturn np.sum(differences), np.sum(differences > 0), ref.shape[0] * ref.shape[1]\n",
    "\n",
    "def main():\n",
    "\tpath_to_outputs_folder = Path(\".\").resolve().parent.joinpath('out')\n",
    "\treference_file = path_to_outputs_folder.joinpath('mandelbrot_amd_seq_1000.out')\n",
    "\tprint(f'Reference file: {reference_file}')\n",
    "\n",
    "\taccurancies = []\n",
    "\n",
    "\t# search for all files in output folder and subfolders\n",
    "\tall_files = []\n",
    "\tfor file in path_to_outputs_folder.glob(\"*.out\"):\n",
    "\t\tif file.with_suffix('.out') and file != 'sequential_out.txt' and (str(file).__contains__('1000') or str(file).endswith('1000_resolution.out')):\n",
    "\t\t\tall_files.append(file.resolve())\n",
    "\t\telse:\n",
    "\t\t\tprint(f'File {file.stem} is not a .out file for comparison')\n",
    "\n",
    "\tprint(\"compute accuracy for each file\")\n",
    "\twith tqdm(total=len(all_files)) as pbar:\n",
    "\t\tfor file in all_files:\n",
    "\t\t\ttmp = {}\n",
    "\t\t\ttmp['file'] = file\n",
    "\t\t\taccuracy, count, total = compute_accuracy(reference_file, file)\n",
    "\t\t\ttmp['accuracy'] = accuracy\n",
    "\t\t\ttmp['count'] = count\n",
    "\t\t\ttmp['total'] = total\n",
    "\t\t\taccurancies.append(tmp)\n",
    "\t\t\tpbar.update(1)\n",
    "\t# print results\n",
    "\tprint('\\nAccuracy:')\n",
    "\tfor acc in accurancies:\n",
    "\t\tprint(f'{acc[\"file\"]:60}  {acc[\"accuracy\"]:12} ({acc[\"count\"]:5}/{acc[\"total\"]}) -> {acc[\"count\"]/acc[\"total\"]:.2%}')\n",
    "\tprint()\n",
    "\n",
    "main()"
   ]
  }
 ],
 "metadata": {
  "kernelspec": {
   "display_name": "venv",
   "language": "python",
   "name": "python3"
  },
  "language_info": {
   "codemirror_mode": {
    "name": "ipython",
    "version": 3
   },
   "file_extension": ".py",
   "mimetype": "text/x-python",
   "name": "python",
   "nbconvert_exporter": "python",
   "pygments_lexer": "ipython3",
   "version": "3.12.6"
  }
 },
 "nbformat": 4,
 "nbformat_minor": 2
}
